{
 "cells": [
  {
   "cell_type": "markdown",
   "metadata": {},
   "source": [
    "# Trabalho de Mineração de Dados\n",
    "### Por: Davi de Castro e João Pedro Righi"
   ]
  },
  {
   "cell_type": "markdown",
   "metadata": {},
   "source": [
    "* Tentamos requisitar e usar o json diretamente mas havia um erro nele."
   ]
  },
  {
   "cell_type": "markdown",
   "metadata": {},
   "source": [
    "* Havia um erro no json onde faltava uma vírgula em determinado item, \n",
    "por ser apenas um caso isolado escolhemos mudar manualmente."
   ]
  },
  {
   "cell_type": "markdown",
   "metadata": {},
   "source": [
    "* Caso fosse um erro recorrente poderíamos utilizar uma lógica de verificação e inserção de vírgulas faltantes"
   ]
  },
  {
   "cell_type": "code",
   "execution_count": 13,
   "metadata": {},
   "outputs": [
    {
     "name": "stdout",
     "output_type": "stream",
     "text": [
      "Substituição concluída. O resultado foi salvo em saida.json.\n"
     ]
    }
   ],
   "source": [
    "#  Substituir \"\\u00e3\" por \"a\"\n",
    "\n",
    "import json\n",
    "\n",
    "def substituir_unicode(input_file, output_file):\n",
    "    # Carrega o conteúdo do arquivo JSON original\n",
    "    with open(input_file, 'r', encoding='utf-8') as file:\n",
    "        data = json.load(file)\n",
    "    \n",
    "    # Converte o JSON para uma string\n",
    "    json_str = json.dumps(data)\n",
    "    \n",
    "    # Substitui \"\\u00e3\" por \"a\"\n",
    "    json_str_modificado = json_str.replace(\"\\u00e3\", \"a\")\n",
    "    \n",
    "    # Converte a string de volta para um objeto JSON\n",
    "    data_modificado = json.loads(json_str_modificado)\n",
    "    \n",
    "    # Salva o resultado em um novo arquivo\n",
    "    with open(output_file, 'w', encoding='utf-8') as file:\n",
    "        json.dump(data_modificado, file, ensure_ascii=False, indent=4)\n",
    "\n",
    "# Caminho para os arquivos de entrada e saída\n",
    "arquivo_entrada = 'padaria_trab.json'\n",
    "arquivo_saida = 'saida.json'\n",
    "\n",
    "# Chama a função para substituir o unicode\n",
    "substituir_unicode(arquivo_entrada, arquivo_saida)\n",
    "\n",
    "print(f\"Substituição concluída. O resultado foi salvo em {arquivo_saida}.\")\n"
   ]
  },
  {
   "cell_type": "markdown",
   "metadata": {},
   "source": [
    "* Havia um erro de formatação que foi resolvido substituindo \"\\u00e3\" por \"a\". "
   ]
  },
  {
   "cell_type": "markdown",
   "metadata": {},
   "source": [
    "* Agora vamos remover a chave \"compra\", uma vez que o índice do objeto já será o bastante para diferenciá-lo dos demais."
   ]
  },
  {
   "cell_type": "code",
   "execution_count": 14,
   "metadata": {},
   "outputs": [
    {
     "name": "stdout",
     "output_type": "stream",
     "text": [
      "A chave 'compra' foi removida e os acentos foram removidos. Dados salvos em 'nova_saida.json'.\n"
     ]
    }
   ],
   "source": [
    "import json\n",
    "import unicodedata\n",
    "\n",
    "def remover_acentos(texto):\n",
    "    \"\"\"Remove acentos de um texto.\"\"\"\n",
    "    return ''.join(\n",
    "        c for c in unicodedata.normalize('NFD', texto)\n",
    "        if unicodedata.category(c) != 'Mn'\n",
    "    )\n",
    "\n",
    "def processar_json(input_file, output_file):\n",
    "    \"\"\"Lê um JSON, remove a chave 'compra', e remove acentos das vogais.\"\"\"\n",
    "    # Carregar os dados do arquivo JSON\n",
    "    with open(input_file, 'r') as file:\n",
    "        compras = json.load(file)\n",
    "\n",
    "    # Processar cada compra\n",
    "    for compra in compras:\n",
    "        # Remover a chave 'compra'\n",
    "        if 'compra' in compra:\n",
    "            del compra['compra']\n",
    "        \n",
    "        # Remover acentos dos produtos\n",
    "        compra['produtos'] = [remover_acentos(produto) for produto in compra['produtos']]\n",
    "\n",
    "    # Salvar os dados modificados em um novo arquivo JSON\n",
    "    with open(output_file, 'w') as file:\n",
    "        json.dump(compras, file, indent=4)\n",
    "\n",
    "    print(f\"A chave 'compra' foi removida e os acentos foram removidos. Dados salvos em '{output_file}'.\")\n",
    "\n",
    "# Chamar a função com os nomes dos arquivos\n",
    "processar_json('saida.json', 'nova_saida.json')\n"
   ]
  },
  {
   "cell_type": "markdown",
   "metadata": {},
   "source": [
    "* Agora vamos separar os produtos em tipo e categoria e deixar as strings em minúsculo para melhorar nossa análise de correlação"
   ]
  },
  {
   "cell_type": "code",
   "execution_count": 15,
   "metadata": {},
   "outputs": [],
   "source": [
    "import json\n",
    "\n",
    "def extrair_tipo_categoria(produto):\n",
    "    # Substituir traços por espaço e dividir o nome do produto\n",
    "    partes = produto.replace('-', ' ').split()\n",
    "    \n",
    "    # O primeiro elemento é considerado tipo, o restante é a categoria\n",
    "    tipo = partes[0].lower()  # Convertendo para minúsculas para uniformidade\n",
    "    categoria = ' '.join(partes[1:]).lower()  # Unindo o restante como categoria\n",
    "    \n",
    "    return tipo, categoria\n",
    "\n",
    "def transformar_produtos(input_json, output_json):\n",
    "    # Ler o JSON de entrada\n",
    "    with open(input_json, 'r', encoding='utf-8') as file:\n",
    "        dados = json.load(file)\n",
    "\n",
    "    # Novo dicionário para armazenar as compras com produtos transformados\n",
    "    compras_transformadas = []\n",
    "\n",
    "    # Iterar sobre as compras e seus produtos\n",
    "    for item in dados:\n",
    "        produtos_transformados = []  # Lista para produtos da compra atual\n",
    "        produtos = item['produtos']\n",
    "        for produto in produtos:\n",
    "            tipo, categoria = extrair_tipo_categoria(produto)\n",
    "            produtos_transformados.append({\n",
    "                \"tipo\": tipo,\n",
    "                \"categoria\": categoria,\n",
    "            })\n",
    "        \n",
    "        # Adicionar a compra com seus produtos transformados\n",
    "        compras_transformadas.append({\n",
    "            \"produtos\": produtos_transformados\n",
    "        })\n",
    "\n",
    "    # Salvar as compras transformadas em um novo JSON\n",
    "    with open(output_json, 'w', encoding='utf-8') as file:\n",
    "        json.dump(compras_transformadas, file, ensure_ascii=False, indent=4)\n",
    "\n",
    "# Chamar a função\n",
    "transformar_produtos('nova_saida.json', 'saida_transformada.json')\n"
   ]
  },
  {
   "cell_type": "markdown",
   "metadata": {},
   "source": [
    "* Agora temos um arquivo json otimizado para a etapa de mineração de dados."
   ]
  },
  {
   "cell_type": "code",
   "execution_count": 16,
   "metadata": {},
   "outputs": [
    {
     "name": "stdout",
     "output_type": "stream",
     "text": [
      "        tipo          categoria  quantidade\n",
      "0     queijo          mussarela          39\n",
      "1        pao            frances          28\n",
      "2     pastel             queijo          22\n",
      "3   presunto              sadia          20\n",
      "4       doce           goiabada          18\n",
      "5       cafe             melita          17\n",
      "6      refri          coca cola          17\n",
      "7   presunto              seara          17\n",
      "8     pastel             frango          17\n",
      "9      refri              fanta          17\n",
      "10  presunto           perdigao          16\n",
      "11     refri              pepsi          16\n",
      "12    pastel              carne          15\n",
      "13      doce           amendoim          15\n",
      "14       pao             gajeta          14\n",
      "15      cafe             iguacu          13\n",
      "16    queijo              minas          13\n",
      "17      doce              leite          13\n",
      "18       pao            cabrito          13\n",
      "19      cafe             nestle          10\n",
      "20    queijo             lanche           9\n",
      "21    pastel  presunto e queijo           5\n",
      "22      cafe            maquina           3\n",
      "23       pao             sovado           1\n"
     ]
    }
   ],
   "source": [
    "import pandas as pd\n",
    "\n",
    "# Carregar o JSON\n",
    "df = pd.read_json('saida_transformada.json')\n",
    "\n",
    "# Explodir a coluna de produtos para facilitar a análise\n",
    "produtos = df.explode('produtos')\n",
    "\n",
    "# Criar um DataFrame a partir da lista de produtos\n",
    "produtos_df = pd.json_normalize(produtos['produtos'])\n",
    "\n",
    "# Análise de frequência\n",
    "frequencia = produtos_df.value_counts().reset_index(name='count')\n",
    "\n",
    "# Verificar as colunas antes de renomeá-las\n",
    "# print(frequencia.head())  # Para entender a estrutura\n",
    "\n",
    "# Renomear as colunas com base na estrutura que você tem\n",
    "# O número de colunas aqui pode ser 3: tipo, categoria e count\n",
    "if frequencia.shape[1] == 3:\n",
    "    frequencia.columns = ['tipo', 'categoria', 'quantidade']\n",
    "else:\n",
    "    print(\"O número de colunas não corresponde ao esperado.\")\n",
    "\n",
    "# Exibir o resultado\n",
    "print(frequencia)\n"
   ]
  }
 ],
 "metadata": {
  "kernelspec": {
   "display_name": "Python 3",
   "language": "python",
   "name": "python3"
  },
  "language_info": {
   "codemirror_mode": {
    "name": "ipython",
    "version": 3
   },
   "file_extension": ".py",
   "mimetype": "text/x-python",
   "name": "python",
   "nbconvert_exporter": "python",
   "pygments_lexer": "ipython3",
   "version": "3.10.12"
  }
 },
 "nbformat": 4,
 "nbformat_minor": 2
}
